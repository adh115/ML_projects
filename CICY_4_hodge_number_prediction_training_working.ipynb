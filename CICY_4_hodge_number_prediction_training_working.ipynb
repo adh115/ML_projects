{
 "cells": [
  {
   "cell_type": "markdown",
   "metadata": {},
   "source": [
    "# Setup"
   ]
  },
  {
   "cell_type": "code",
   "execution_count": 1,
   "metadata": {},
   "outputs": [],
   "source": [
    "import numpy as np\n",
    "import pandas as pd\n",
    "import matplotlib as mpl\n",
    "import matplotlib.pyplot as plt\n",
    "import tensorflow as tf\n",
    "import tensorflow.keras as keras"
   ]
  },
  {
   "cell_type": "markdown",
   "metadata": {},
   "source": [
    "# Preprocessing"
   ]
  },
  {
   "cell_type": "markdown",
   "metadata": {},
   "source": [
    "A function to take the data instances as strings and convert them into a tuple that can be easily manipulated by the model. If matrix_output is True the Q matrix is output as a 2d array (matrix), otherwise it's output as a 1d array"
   ]
  },
  {
   "cell_type": "code",
   "execution_count": 2,
   "metadata": {},
   "outputs": [],
   "source": [
    "def process_data_value(data_value, matrix_output = True):\n",
    "    import numpy as np\n",
    "    \n",
    "    y = data_value.split('{{', 1)\n",
    "    a, b = y[0].split('{')[1], y[1].split('}}', 1)\n",
    "    x = a.split(',')[:-1]\n",
    "    z = b[1].split(',')[1: -1]\n",
    "    q = b[0].replace('}', '').replace('{', '').split(',')\n",
    "    for i in range(len(x)):\n",
    "        x[i] = int(x[i])\n",
    "    for i in range(len(z)):\n",
    "        if i != 1 and z[i] != 'Null':\n",
    "            z[i] = int(z[i])\n",
    "    for i in range(len(q)):\n",
    "        q[i] = int(q[i])\n",
    "    if x[1] == z[2]: # is manifold favourable\n",
    "        z.append('True')\n",
    "    else:\n",
    "        if z[2] != 'Null':\n",
    "            z.append('False')\n",
    "        else:\n",
    "            z.append('Null')\n",
    "    if matrix_output:\n",
    "        q = np.array(q).reshape((x[1], x[2])) \n",
    "    else:\n",
    "        q = np.array(q)       \n",
    "    return x, q, z"
   ]
  },
  {
   "cell_type": "markdown",
   "metadata": {},
   "source": [
    "A pair of functions to read in the data instances from the appropriate file and then process them. In the first case all of the information on each instance is retained, with the Q matrix being a 2d array if matrix_output is True and a 1d array otherwise. In the second function only the Q matrix (given as a 2d array if matrix_output = True, or a 1d array otherwise) and a single Hodge number (of the users' choice) are returned as a tuple. "
   ]
  },
  {
   "cell_type": "code",
   "execution_count": 3,
   "metadata": {},
   "outputs": [],
   "source": [
    "def load_instances(file_path, matrix_output = True):\n",
    "    import numpy as np\n",
    "    instances = []\n",
    "    \n",
    "    with open(file_path, 'r') as f:\n",
    "        line = f.readlines(1)\n",
    "        while line != []:\n",
    "            example = process_data_value(line[0], matrix_output)\n",
    "            instances.append(example)\n",
    "            line = f.readlines(1)\n",
    "    return np.array(instances, dtype = object)"
   ]
  },
  {
   "cell_type": "code",
   "execution_count": 4,
   "metadata": {},
   "outputs": [],
   "source": [
    "def load_X_Y_instances(file_path, X_index, Y_index, matrix_output = True):\n",
    "    import numpy as np\n",
    "    X, Y = [], []\n",
    "    \n",
    "    with open(file_path, 'r') as f:\n",
    "        line = f.readlines(1)\n",
    "        while line != []:\n",
    "            example = process_data_value(line[0], matrix_output)\n",
    "            X.append(example[X_index])\n",
    "            Y.append(example[-1][Y_index])\n",
    "            line = f.readlines(1)\n",
    "    return np.array(X, dtype = object), np.array(Y, dtype = np.int32)"
   ]
  },
  {
   "cell_type": "markdown",
   "metadata": {},
   "source": [
    "A function to load the instances in a given file, pad them and return Q matrices and labels in a form that can directly be used in a model (since the shape of X is of form (number_instances, rows, columns))."
   ]
  },
  {
   "cell_type": "code",
   "execution_count": 5,
   "metadata": {},
   "outputs": [],
   "source": [
    "def load_padded_X_Y_instances(file_path, X_index, Y_index, desired_shape, padding = 0, matrix_output = True):\n",
    "    import numpy as np\n",
    "    X_prime, Y = [], [] \n",
    "    \n",
    "    with open(file_path, 'r') as f:\n",
    "        line = f.readlines(1)\n",
    "        while line != []:\n",
    "            example = process_data_value(line[0], matrix_output)\n",
    "            X_prime.append(example[X_index])\n",
    "            Y.append(example[-1][Y_index])\n",
    "            line = f.readlines(1)\n",
    "            \n",
    "    X = np.full((len(X_prime), desired_shape[0], desired_shape[1]), padding)\n",
    "    i = 0\n",
    "    for q_matrix in X_prime:\n",
    "        X[i, :, :] = pad_q_matrix(desired_shape = desired_shape, q_matrix = q_matrix, padding = 0)\n",
    "        i += 1\n",
    "    \n",
    "    return X, np.array(Y, dtype = np.int32)"
   ]
  },
  {
   "cell_type": "markdown",
   "metadata": {},
   "source": [
    "A function to pad a Q matrix, given in 2d array form, to a desired shape."
   ]
  },
  {
   "cell_type": "code",
   "execution_count": 6,
   "metadata": {},
   "outputs": [],
   "source": [
    "def pad_q_matrix(desired_shape, q_matrix, padding = 0):\n",
    "    import numpy as np\n",
    "    m, K = q_matrix.shape[0], q_matrix.shape[1]\n",
    "    q_tilde = np.full(desired_shape, padding)\n",
    "    j = 0\n",
    "    for i in range(m):\n",
    "        for j in range(K):\n",
    "            q_tilde[i, j] = q_matrix[i, j]\n",
    "    return q_tilde"
   ]
  },
  {
   "cell_type": "markdown",
   "metadata": {},
   "source": [
    "# Train, validation, test data split"
   ]
  },
  {
   "cell_type": "markdown",
   "metadata": {},
   "source": [
    "Read in the train, validation and test sets from the appropriate files"
   ]
  },
  {
   "cell_type": "code",
   "execution_count": 7,
   "metadata": {},
   "outputs": [],
   "source": [
    "X_train, Y_train = load_padded_X_Y_instances('./data/CICY_4_train.txt', 1, 2, desired_shape = (16, 20))\n",
    "X_val, Y_val = load_padded_X_Y_instances('./data/CICY_4_validation.txt', 1, 2, desired_shape = (16, 20))"
   ]
  },
  {
   "cell_type": "code",
   "execution_count": 8,
   "metadata": {},
   "outputs": [
    {
     "data": {
      "text/plain": [
       "((135852, 16, 20), (135852,))"
      ]
     },
     "execution_count": 8,
     "metadata": {},
     "output_type": "execute_result"
    }
   ],
   "source": [
    "X_train.shape, Y_train.shape"
   ]
  },
  {
   "cell_type": "code",
   "execution_count": 9,
   "metadata": {},
   "outputs": [
    {
     "data": {
      "text/plain": [
       "((45284, 16, 20), (45284,))"
      ]
     },
     "execution_count": 9,
     "metadata": {},
     "output_type": "execute_result"
    }
   ],
   "source": [
    "X_val.shape, Y_val.shape"
   ]
  },
  {
   "cell_type": "markdown",
   "metadata": {},
   "source": [
    "# Model for h<sup>1,1</sup>"
   ]
  },
  {
   "cell_type": "code",
   "execution_count": 10,
   "metadata": {},
   "outputs": [],
   "source": [
    "classifier_model = keras.models.Sequential([\n",
    "    keras.layers.Flatten(input_shape = [16, 20]),\n",
    "    keras.layers.Dense(units = 512, activation = 'sigmoid'),\n",
    "    keras.layers.Dropout(rate = 0.4),\n",
    "    keras.layers.Dense(units = 256, activation = 'sigmoid'),\n",
    "    keras.layers.Dropout(rate = 0.3),\n",
    "    keras.layers.Dense(units = 256, activation = 'sigmoid'),\n",
    "    keras.layers.Dense(units = 24, activation = 'softmax')\n",
    "])\n",
    "\n",
    "classifier_model.compile(loss = 'mse', optimizer = keras.optimizers.Adam(learning_rate = 0.001))"
   ]
  },
  {
   "cell_type": "code",
   "execution_count": 11,
   "metadata": {},
   "outputs": [
    {
     "name": "stdout",
     "output_type": "stream",
     "text": [
      "Epoch 1/10\n",
      "4246/4246 [==============================] - 14s 3ms/step - loss: 106.2179\n",
      "Epoch 2/10\n",
      "4246/4246 [==============================] - 12s 3ms/step - loss: 106.2177\n",
      "Epoch 3/10\n",
      "4246/4246 [==============================] - 13s 3ms/step - loss: 106.2178\n",
      "Epoch 4/10\n",
      "4246/4246 [==============================] - 15s 3ms/step - loss: 106.2179\n",
      "Epoch 5/10\n",
      "4246/4246 [==============================] - 13s 3ms/step - loss: 106.2178\n",
      "Epoch 6/10\n",
      "4246/4246 [==============================] - 13s 3ms/step - loss: 106.2178\n",
      "Epoch 7/10\n",
      "4246/4246 [==============================] - 13s 3ms/step - loss: 106.2177\n",
      "Epoch 8/10\n",
      "4246/4246 [==============================] - 13s 3ms/step - loss: 106.2178\n",
      "Epoch 9/10\n",
      "4246/4246 [==============================] - 13s 3ms/step - loss: 106.2178\n",
      "Epoch 10/10\n",
      "4246/4246 [==============================] - 12s 3ms/step - loss: 106.2178\n"
     ]
    }
   ],
   "source": [
    "history = classifier_model.fit(X_train, Y_train, epochs = 10)"
   ]
  },
  {
   "cell_type": "markdown",
   "metadata": {},
   "source": [
    "Issue now obvious, softmax outputs numbers in \\[0,1\\] whilst the targets are integers from 0 to 24"
   ]
  },
  {
   "cell_type": "code",
   "execution_count": 12,
   "metadata": {},
   "outputs": [],
   "source": [
    "classifier_model_v2 = keras.models.Sequential([\n",
    "    keras.layers.Flatten(input_shape = [16, 20]),\n",
    "    keras.layers.Dense(units = 512, activation = 'relu'),\n",
    "    keras.layers.Dropout(rate = 0.4),\n",
    "    keras.layers.Dense(units = 256, activation = 'relu'),\n",
    "    keras.layers.Dropout(rate = 0.3),\n",
    "    keras.layers.Dense(units = 256, activation = 'relu'),\n",
    "    keras.layers.Dense(units = 25, activation = 'softmax')\n",
    "])\n",
    "\n",
    "classifier_model_v2.compile(loss = 'sparse_categorical_crossentropy', optimizer = keras.optimizers.Adam(learning_rate = 1/ 300), metrics = ['accuracy'])"
   ]
  },
  {
   "cell_type": "code",
   "execution_count": 13,
   "metadata": {},
   "outputs": [
    {
     "name": "stdout",
     "output_type": "stream",
     "text": [
      "Epoch 1/150\n",
      "4246/4246 [==============================] - 14s 3ms/step - loss: 1.2168 - accuracy: 0.6057 - val_loss: 1.0323 - val_accuracy: 0.6568\n",
      "Epoch 2/150\n",
      "4246/4246 [==============================] - 14s 3ms/step - loss: 1.0717 - accuracy: 0.6493 - val_loss: 0.9413 - val_accuracy: 0.6876\n",
      "Epoch 3/150\n",
      "4246/4246 [==============================] - 13s 3ms/step - loss: 1.0105 - accuracy: 0.6711 - val_loss: 0.8751 - val_accuracy: 0.7189\n",
      "Epoch 4/150\n",
      "4246/4246 [==============================] - 13s 3ms/step - loss: 0.9649 - accuracy: 0.6882 - val_loss: 0.8317 - val_accuracy: 0.7297\n",
      "Epoch 5/150\n",
      "4246/4246 [==============================] - 14s 3ms/step - loss: 0.9276 - accuracy: 0.7015 - val_loss: 0.7894 - val_accuracy: 0.7444\n",
      "Epoch 6/150\n",
      "4246/4246 [==============================] - 13s 3ms/step - loss: 0.8967 - accuracy: 0.7161 - val_loss: 0.7626 - val_accuracy: 0.7603\n",
      "Epoch 7/150\n",
      "4246/4246 [==============================] - 14s 3ms/step - loss: 0.8693 - accuracy: 0.7265 - val_loss: 0.7226 - val_accuracy: 0.7675\n",
      "Epoch 8/150\n",
      "4246/4246 [==============================] - 14s 3ms/step - loss: 0.8416 - accuracy: 0.7360 - val_loss: 0.7074 - val_accuracy: 0.7826\n",
      "Epoch 9/150\n",
      "4246/4246 [==============================] - 14s 3ms/step - loss: 0.8169 - accuracy: 0.7450 - val_loss: 0.6785 - val_accuracy: 0.7835\n",
      "Epoch 10/150\n",
      "4246/4246 [==============================] - 13s 3ms/step - loss: 0.7985 - accuracy: 0.7547 - val_loss: 0.6618 - val_accuracy: 0.7961\n",
      "Epoch 11/150\n",
      "4246/4246 [==============================] - 14s 3ms/step - loss: 0.7819 - accuracy: 0.7605 - val_loss: 0.6351 - val_accuracy: 0.8010\n",
      "Epoch 12/150\n",
      "4246/4246 [==============================] - 14s 3ms/step - loss: 0.7621 - accuracy: 0.7666 - val_loss: 0.6164 - val_accuracy: 0.8093\n",
      "Epoch 13/150\n",
      "4246/4246 [==============================] - 14s 3ms/step - loss: 0.7546 - accuracy: 0.7715 - val_loss: 0.5960 - val_accuracy: 0.8207\n",
      "Epoch 14/150\n",
      "4246/4246 [==============================] - 14s 3ms/step - loss: 0.7395 - accuracy: 0.7763 - val_loss: 0.6035 - val_accuracy: 0.8183\n",
      "Epoch 15/150\n",
      "4246/4246 [==============================] - 11s 3ms/step - loss: 0.7312 - accuracy: 0.7814 - val_loss: 0.5796 - val_accuracy: 0.8241\n",
      "Epoch 16/150\n",
      "4246/4246 [==============================] - 12s 3ms/step - loss: 0.7215 - accuracy: 0.7845 - val_loss: 0.5606 - val_accuracy: 0.8307\n",
      "Epoch 17/150\n",
      "4246/4246 [==============================] - 12s 3ms/step - loss: 0.7109 - accuracy: 0.7902 - val_loss: 0.5582 - val_accuracy: 0.8359\n",
      "Epoch 18/150\n",
      "4246/4246 [==============================] - 12s 3ms/step - loss: 0.6943 - accuracy: 0.7941 - val_loss: 0.5539 - val_accuracy: 0.8341\n",
      "Epoch 19/150\n",
      "4246/4246 [==============================] - 12s 3ms/step - loss: 0.6990 - accuracy: 0.7963 - val_loss: 0.5416 - val_accuracy: 0.8398\n",
      "Epoch 20/150\n",
      "4246/4246 [==============================] - 12s 3ms/step - loss: 0.6842 - accuracy: 0.7996 - val_loss: 0.5352 - val_accuracy: 0.8420\n",
      "Epoch 21/150\n",
      "4246/4246 [==============================] - 12s 3ms/step - loss: 0.6778 - accuracy: 0.8031 - val_loss: 0.5533 - val_accuracy: 0.8278\n",
      "Epoch 22/150\n",
      "4246/4246 [==============================] - 12s 3ms/step - loss: 0.6699 - accuracy: 0.8053 - val_loss: 0.5265 - val_accuracy: 0.8480\n",
      "Epoch 23/150\n",
      "4246/4246 [==============================] - 12s 3ms/step - loss: 0.6650 - accuracy: 0.8084 - val_loss: 0.5183 - val_accuracy: 0.8486\n",
      "Epoch 24/150\n",
      "4246/4246 [==============================] - 12s 3ms/step - loss: 0.6594 - accuracy: 0.8105 - val_loss: 0.5090 - val_accuracy: 0.8547\n",
      "Epoch 25/150\n",
      "4246/4246 [==============================] - 12s 3ms/step - loss: 0.6591 - accuracy: 0.8118 - val_loss: 0.4924 - val_accuracy: 0.8591\n",
      "Epoch 26/150\n",
      "4246/4246 [==============================] - 12s 3ms/step - loss: 0.6563 - accuracy: 0.8149 - val_loss: 0.5033 - val_accuracy: 0.8531\n",
      "Epoch 27/150\n",
      "4246/4246 [==============================] - 12s 3ms/step - loss: 0.6452 - accuracy: 0.8167 - val_loss: 0.4849 - val_accuracy: 0.8602\n",
      "Epoch 28/150\n",
      "4246/4246 [==============================] - 12s 3ms/step - loss: 0.6336 - accuracy: 0.8199 - val_loss: 0.4971 - val_accuracy: 0.8573\n",
      "Epoch 29/150\n",
      "4246/4246 [==============================] - 12s 3ms/step - loss: 0.6364 - accuracy: 0.8207 - val_loss: 0.4900 - val_accuracy: 0.8617\n",
      "Epoch 30/150\n",
      "4246/4246 [==============================] - 12s 3ms/step - loss: 0.6266 - accuracy: 0.8226 - val_loss: 0.4725 - val_accuracy: 0.8633\n",
      "Epoch 31/150\n",
      "4246/4246 [==============================] - 12s 3ms/step - loss: 0.6206 - accuracy: 0.8250 - val_loss: 0.4763 - val_accuracy: 0.8644\n",
      "Epoch 32/150\n",
      "4246/4246 [==============================] - 12s 3ms/step - loss: 0.6282 - accuracy: 0.8251 - val_loss: 0.4765 - val_accuracy: 0.8651\n",
      "Epoch 33/150\n",
      "4246/4246 [==============================] - 12s 3ms/step - loss: 0.6189 - accuracy: 0.8263 - val_loss: 0.4718 - val_accuracy: 0.8660\n",
      "Epoch 34/150\n",
      "4246/4246 [==============================] - 12s 3ms/step - loss: 0.6148 - accuracy: 0.8270 - val_loss: 0.4793 - val_accuracy: 0.8709\n",
      "Epoch 35/150\n",
      "4246/4246 [==============================] - 12s 3ms/step - loss: 0.6106 - accuracy: 0.8292 - val_loss: 0.4884 - val_accuracy: 0.8621\n",
      "Epoch 36/150\n",
      "4246/4246 [==============================] - 12s 3ms/step - loss: 0.6066 - accuracy: 0.8311 - val_loss: 0.4571 - val_accuracy: 0.8726\n",
      "Epoch 37/150\n",
      "4246/4246 [==============================] - 12s 3ms/step - loss: 0.6033 - accuracy: 0.8326 - val_loss: 0.4809 - val_accuracy: 0.8667\n",
      "Epoch 38/150\n",
      "4246/4246 [==============================] - 12s 3ms/step - loss: 0.6072 - accuracy: 0.8321 - val_loss: 0.4561 - val_accuracy: 0.8729\n",
      "Epoch 39/150\n",
      "4246/4246 [==============================] - 12s 3ms/step - loss: 0.6007 - accuracy: 0.8346 - val_loss: 0.4598 - val_accuracy: 0.8719\n",
      "Epoch 40/150\n",
      "4246/4246 [==============================] - 12s 3ms/step - loss: 0.5925 - accuracy: 0.8345 - val_loss: 0.4486 - val_accuracy: 0.8753\n",
      "Epoch 41/150\n",
      "4246/4246 [==============================] - 12s 3ms/step - loss: 0.5904 - accuracy: 0.8369 - val_loss: 0.4561 - val_accuracy: 0.8749\n",
      "Epoch 42/150\n",
      "4246/4246 [==============================] - 12s 3ms/step - loss: 0.5947 - accuracy: 0.8383 - val_loss: 0.4504 - val_accuracy: 0.8747\n",
      "Epoch 43/150\n",
      "4246/4246 [==============================] - 12s 3ms/step - loss: 0.5859 - accuracy: 0.8388 - val_loss: 0.4462 - val_accuracy: 0.8761\n",
      "Epoch 44/150\n",
      "4246/4246 [==============================] - 12s 3ms/step - loss: 0.5832 - accuracy: 0.8401 - val_loss: 0.4439 - val_accuracy: 0.8789\n",
      "Epoch 45/150\n",
      "4246/4246 [==============================] - 12s 3ms/step - loss: 0.5783 - accuracy: 0.8404 - val_loss: 0.4374 - val_accuracy: 0.8792\n",
      "Epoch 46/150\n",
      "4246/4246 [==============================] - 12s 3ms/step - loss: 0.5781 - accuracy: 0.8413 - val_loss: 0.4514 - val_accuracy: 0.8810\n",
      "Epoch 47/150\n",
      "4246/4246 [==============================] - 12s 3ms/step - loss: 0.5827 - accuracy: 0.8419 - val_loss: 0.4275 - val_accuracy: 0.8827\n",
      "Epoch 48/150\n",
      "4246/4246 [==============================] - 12s 3ms/step - loss: 0.5783 - accuracy: 0.8418 - val_loss: 0.4406 - val_accuracy: 0.8764\n",
      "Epoch 49/150\n",
      "4246/4246 [==============================] - 12s 3ms/step - loss: 0.5725 - accuracy: 0.8441 - val_loss: 0.4408 - val_accuracy: 0.8807\n",
      "Epoch 50/150\n",
      "4246/4246 [==============================] - 12s 3ms/step - loss: 0.5751 - accuracy: 0.8448 - val_loss: 0.4344 - val_accuracy: 0.8812\n",
      "Epoch 51/150\n",
      "4246/4246 [==============================] - 12s 3ms/step - loss: 0.5728 - accuracy: 0.8448 - val_loss: 0.4316 - val_accuracy: 0.8841\n",
      "Epoch 52/150\n",
      "4246/4246 [==============================] - 12s 3ms/step - loss: 0.5682 - accuracy: 0.8445 - val_loss: 0.4431 - val_accuracy: 0.8841\n",
      "Epoch 53/150\n",
      "4246/4246 [==============================] - 11s 3ms/step - loss: 0.5654 - accuracy: 0.8476 - val_loss: 0.4293 - val_accuracy: 0.8815\n",
      "Epoch 54/150\n",
      "4246/4246 [==============================] - 12s 3ms/step - loss: 0.5663 - accuracy: 0.8477 - val_loss: 0.4391 - val_accuracy: 0.8810\n",
      "Epoch 55/150\n",
      "4246/4246 [==============================] - 12s 3ms/step - loss: 0.5609 - accuracy: 0.8476 - val_loss: 0.4278 - val_accuracy: 0.8857\n",
      "Epoch 56/150\n",
      "4246/4246 [==============================] - 12s 3ms/step - loss: 0.5755 - accuracy: 0.8476 - val_loss: 0.4351 - val_accuracy: 0.8821\n"
     ]
    },
    {
     "name": "stdout",
     "output_type": "stream",
     "text": [
      "Epoch 57/150\n",
      "4246/4246 [==============================] - 12s 3ms/step - loss: 0.5614 - accuracy: 0.8473 - val_loss: 0.4341 - val_accuracy: 0.8839\n",
      "Epoch 58/150\n",
      "4246/4246 [==============================] - 12s 3ms/step - loss: 0.5645 - accuracy: 0.8490 - val_loss: 0.4182 - val_accuracy: 0.8878\n",
      "Epoch 59/150\n",
      "4246/4246 [==============================] - 12s 3ms/step - loss: 0.5563 - accuracy: 0.8494 - val_loss: 0.4297 - val_accuracy: 0.8873\n",
      "Epoch 60/150\n",
      "4246/4246 [==============================] - 12s 3ms/step - loss: 0.5676 - accuracy: 0.8501 - val_loss: 0.4515 - val_accuracy: 0.8824\n",
      "Epoch 61/150\n",
      "4246/4246 [==============================] - 12s 3ms/step - loss: 0.5560 - accuracy: 0.8523 - val_loss: 0.4162 - val_accuracy: 0.8897\n",
      "Epoch 62/150\n",
      "4246/4246 [==============================] - 12s 3ms/step - loss: 0.5535 - accuracy: 0.8511 - val_loss: 0.4141 - val_accuracy: 0.8912\n",
      "Epoch 63/150\n",
      "4246/4246 [==============================] - 12s 3ms/step - loss: 0.5608 - accuracy: 0.8522 - val_loss: 0.4288 - val_accuracy: 0.8877\n",
      "Epoch 64/150\n",
      "4246/4246 [==============================] - 12s 3ms/step - loss: 0.5551 - accuracy: 0.8525 - val_loss: 0.4116 - val_accuracy: 0.8877\n",
      "Epoch 65/150\n",
      "4246/4246 [==============================] - 12s 3ms/step - loss: 0.5467 - accuracy: 0.8533 - val_loss: 0.4254 - val_accuracy: 0.8830\n",
      "Epoch 66/150\n",
      "4246/4246 [==============================] - 12s 3ms/step - loss: 0.5451 - accuracy: 0.8547 - val_loss: 0.4293 - val_accuracy: 0.8880\n",
      "Epoch 67/150\n",
      "4246/4246 [==============================] - 12s 3ms/step - loss: 0.5651 - accuracy: 0.8538 - val_loss: 0.4089 - val_accuracy: 0.8906\n",
      "Epoch 68/150\n",
      "4246/4246 [==============================] - 12s 3ms/step - loss: 0.5513 - accuracy: 0.8545 - val_loss: 0.4161 - val_accuracy: 0.8880\n",
      "Epoch 69/150\n",
      "4246/4246 [==============================] - 12s 3ms/step - loss: 0.5494 - accuracy: 0.8557 - val_loss: 0.4205 - val_accuracy: 0.8895\n",
      "Epoch 70/150\n",
      "4246/4246 [==============================] - 12s 3ms/step - loss: 0.5541 - accuracy: 0.8548 - val_loss: 0.4354 - val_accuracy: 0.8870\n",
      "Epoch 71/150\n",
      "4246/4246 [==============================] - 12s 3ms/step - loss: 0.5635 - accuracy: 0.8552 - val_loss: 0.4022 - val_accuracy: 0.8905\n",
      "Epoch 72/150\n",
      "4246/4246 [==============================] - 12s 3ms/step - loss: 0.5474 - accuracy: 0.8559 - val_loss: 0.4046 - val_accuracy: 0.8929\n",
      "Epoch 73/150\n",
      "4246/4246 [==============================] - 12s 3ms/step - loss: 0.5463 - accuracy: 0.8563 - val_loss: 0.4165 - val_accuracy: 0.8899\n",
      "Epoch 74/150\n",
      "4246/4246 [==============================] - 12s 3ms/step - loss: 0.5509 - accuracy: 0.8560 - val_loss: 0.4046 - val_accuracy: 0.8945\n",
      "Epoch 75/150\n",
      "4246/4246 [==============================] - 12s 3ms/step - loss: 0.5518 - accuracy: 0.8575 - val_loss: 0.4354 - val_accuracy: 0.8899\n",
      "Epoch 76/150\n",
      "4246/4246 [==============================] - 12s 3ms/step - loss: 0.5566 - accuracy: 0.8574 - val_loss: 0.4107 - val_accuracy: 0.8892\n",
      "Epoch 77/150\n",
      "4246/4246 [==============================] - 12s 3ms/step - loss: 0.5508 - accuracy: 0.8558 - val_loss: 0.3997 - val_accuracy: 0.8926\n",
      "Epoch 78/150\n",
      "4246/4246 [==============================] - 12s 3ms/step - loss: 0.5364 - accuracy: 0.8596 - val_loss: 0.4097 - val_accuracy: 0.8899\n",
      "Epoch 79/150\n",
      "4246/4246 [==============================] - 12s 3ms/step - loss: 0.5366 - accuracy: 0.8581 - val_loss: 0.4183 - val_accuracy: 0.8903\n",
      "Epoch 80/150\n",
      "4246/4246 [==============================] - 12s 3ms/step - loss: 0.5347 - accuracy: 0.8586 - val_loss: 0.4109 - val_accuracy: 0.8892\n",
      "Epoch 81/150\n",
      "4246/4246 [==============================] - 12s 3ms/step - loss: 0.5461 - accuracy: 0.8591 - val_loss: 0.4074 - val_accuracy: 0.8920\n",
      "Epoch 82/150\n",
      "4246/4246 [==============================] - 12s 3ms/step - loss: 0.5316 - accuracy: 0.8606 - val_loss: 0.4042 - val_accuracy: 0.8937\n",
      "Epoch 83/150\n",
      "4246/4246 [==============================] - 12s 3ms/step - loss: 0.5307 - accuracy: 0.8618 - val_loss: 0.4061 - val_accuracy: 0.8935\n",
      "Epoch 84/150\n",
      "4246/4246 [==============================] - 12s 3ms/step - loss: 0.5375 - accuracy: 0.8605 - val_loss: 0.3951 - val_accuracy: 0.8957\n",
      "Epoch 85/150\n",
      "4246/4246 [==============================] - 12s 3ms/step - loss: 0.5238 - accuracy: 0.8616 - val_loss: 0.4133 - val_accuracy: 0.8900\n",
      "Epoch 86/150\n",
      "4246/4246 [==============================] - 12s 3ms/step - loss: 0.5269 - accuracy: 0.8615 - val_loss: 0.4148 - val_accuracy: 0.8923\n",
      "Epoch 87/150\n",
      "4246/4246 [==============================] - 12s 3ms/step - loss: 0.5255 - accuracy: 0.8628 - val_loss: 0.4223 - val_accuracy: 0.8927\n",
      "Epoch 88/150\n",
      "4246/4246 [==============================] - 12s 3ms/step - loss: 0.5545 - accuracy: 0.8641 - val_loss: 0.3917 - val_accuracy: 0.8979\n",
      "Epoch 89/150\n",
      "4246/4246 [==============================] - 12s 3ms/step - loss: 0.5295 - accuracy: 0.8623 - val_loss: 0.4151 - val_accuracy: 0.8942\n",
      "Epoch 90/150\n",
      "4246/4246 [==============================] - 11s 3ms/step - loss: 0.5246 - accuracy: 0.8628 - val_loss: 0.4126 - val_accuracy: 0.8904\n",
      "Epoch 91/150\n",
      "4246/4246 [==============================] - 12s 3ms/step - loss: 0.5342 - accuracy: 0.8629 - val_loss: 0.4039 - val_accuracy: 0.8945\n",
      "Epoch 92/150\n",
      "4246/4246 [==============================] - 12s 3ms/step - loss: 0.5259 - accuracy: 0.8634 - val_loss: 0.4535 - val_accuracy: 0.8835\n",
      "Epoch 93/150\n",
      "4246/4246 [==============================] - 12s 3ms/step - loss: 0.5193 - accuracy: 0.8637 - val_loss: 0.3965 - val_accuracy: 0.8975\n",
      "Epoch 94/150\n",
      "4246/4246 [==============================] - 12s 3ms/step - loss: 0.5247 - accuracy: 0.8627 - val_loss: 0.3989 - val_accuracy: 0.8950\n",
      "Epoch 95/150\n",
      "4246/4246 [==============================] - 12s 3ms/step - loss: 0.5188 - accuracy: 0.8633 - val_loss: 0.4182 - val_accuracy: 0.8891\n",
      "Epoch 96/150\n",
      "4246/4246 [==============================] - 12s 3ms/step - loss: 0.5239 - accuracy: 0.8650 - val_loss: 0.4019 - val_accuracy: 0.8960\n",
      "Epoch 97/150\n",
      "4246/4246 [==============================] - 11s 3ms/step - loss: 0.5267 - accuracy: 0.8640 - val_loss: 0.3978 - val_accuracy: 0.8960\n",
      "Epoch 98/150\n",
      "4246/4246 [==============================] - 12s 3ms/step - loss: 0.5199 - accuracy: 0.8661 - val_loss: 0.4013 - val_accuracy: 0.8984\n",
      "Epoch 99/150\n",
      "4246/4246 [==============================] - 12s 3ms/step - loss: 0.5135 - accuracy: 0.8662 - val_loss: 0.3987 - val_accuracy: 0.8999\n",
      "Epoch 100/150\n",
      "4246/4246 [==============================] - 12s 3ms/step - loss: 0.5207 - accuracy: 0.8656 - val_loss: 0.3905 - val_accuracy: 0.8983\n",
      "Epoch 101/150\n",
      "4246/4246 [==============================] - 12s 3ms/step - loss: 0.5217 - accuracy: 0.8647 - val_loss: 0.3966 - val_accuracy: 0.8985\n",
      "Epoch 102/150\n",
      "4246/4246 [==============================] - 12s 3ms/step - loss: 0.5154 - accuracy: 0.8660 - val_loss: 0.3947 - val_accuracy: 0.8972\n",
      "Epoch 103/150\n",
      "4246/4246 [==============================] - 12s 3ms/step - loss: 0.5286 - accuracy: 0.8650 - val_loss: 0.3955 - val_accuracy: 0.8961\n",
      "Epoch 104/150\n",
      "4246/4246 [==============================] - 12s 3ms/step - loss: 0.5147 - accuracy: 0.8674 - val_loss: 0.3951 - val_accuracy: 0.8989\n",
      "Epoch 105/150\n",
      "4246/4246 [==============================] - 12s 3ms/step - loss: 0.5172 - accuracy: 0.8664 - val_loss: 0.3998 - val_accuracy: 0.8956\n",
      "Epoch 106/150\n",
      "4246/4246 [==============================] - 12s 3ms/step - loss: 0.5157 - accuracy: 0.8666 - val_loss: 0.3876 - val_accuracy: 0.8961\n",
      "Epoch 107/150\n",
      "4246/4246 [==============================] - 12s 3ms/step - loss: 0.5135 - accuracy: 0.8674 - val_loss: 0.4163 - val_accuracy: 0.8968\n",
      "Epoch 108/150\n",
      "4246/4246 [==============================] - 12s 3ms/step - loss: 0.5200 - accuracy: 0.8671 - val_loss: 0.3938 - val_accuracy: 0.9005\n",
      "Epoch 109/150\n",
      "4246/4246 [==============================] - 12s 3ms/step - loss: 0.5279 - accuracy: 0.8681 - val_loss: 0.3878 - val_accuracy: 0.9012\n",
      "Epoch 110/150\n",
      "4246/4246 [==============================] - 12s 3ms/step - loss: 0.5152 - accuracy: 0.8695 - val_loss: 0.3920 - val_accuracy: 0.9010\n",
      "Epoch 111/150\n",
      "4246/4246 [==============================] - 11s 3ms/step - loss: 0.5100 - accuracy: 0.8677 - val_loss: 0.3861 - val_accuracy: 0.9018\n",
      "Epoch 112/150\n",
      "4246/4246 [==============================] - 12s 3ms/step - loss: 0.5130 - accuracy: 0.8687 - val_loss: 0.3922 - val_accuracy: 0.9011\n",
      "Epoch 113/150\n",
      "4246/4246 [==============================] - 11s 3ms/step - loss: 0.5197 - accuracy: 0.8678 - val_loss: 0.3929 - val_accuracy: 0.8998\n",
      "Epoch 114/150\n",
      "4246/4246 [==============================] - 12s 3ms/step - loss: 0.5126 - accuracy: 0.8696 - val_loss: 0.4138 - val_accuracy: 0.8977\n",
      "Epoch 115/150\n",
      "4246/4246 [==============================] - 11s 3ms/step - loss: 0.5117 - accuracy: 0.8695 - val_loss: 0.4060 - val_accuracy: 0.8996\n",
      "Epoch 116/150\n",
      "4246/4246 [==============================] - 12s 3ms/step - loss: 0.5234 - accuracy: 0.8681 - val_loss: 0.3962 - val_accuracy: 0.8979\n",
      "Epoch 117/150\n",
      "4246/4246 [==============================] - 12s 3ms/step - loss: 0.5197 - accuracy: 0.8689 - val_loss: 0.4011 - val_accuracy: 0.8983\n",
      "Epoch 118/150\n",
      "4246/4246 [==============================] - 12s 3ms/step - loss: 0.5106 - accuracy: 0.8710 - val_loss: 0.3881 - val_accuracy: 0.9000\n",
      "Epoch 119/150\n",
      "4246/4246 [==============================] - 12s 3ms/step - loss: 0.5151 - accuracy: 0.8695 - val_loss: 0.3946 - val_accuracy: 0.8968\n",
      "Epoch 120/150\n",
      "4246/4246 [==============================] - 12s 3ms/step - loss: 0.5146 - accuracy: 0.8692 - val_loss: 0.4013 - val_accuracy: 0.8994\n",
      "Epoch 121/150\n",
      "4246/4246 [==============================] - 12s 3ms/step - loss: 0.5082 - accuracy: 0.8701 - val_loss: 0.3981 - val_accuracy: 0.8970\n",
      "Epoch 122/150\n",
      "4246/4246 [==============================] - 12s 3ms/step - loss: 0.5146 - accuracy: 0.8695 - val_loss: 0.3984 - val_accuracy: 0.9004\n",
      "Epoch 123/150\n",
      "4246/4246 [==============================] - 12s 3ms/step - loss: 0.5132 - accuracy: 0.8699 - val_loss: 0.3933 - val_accuracy: 0.9007\n",
      "Epoch 124/150\n",
      "4246/4246 [==============================] - 12s 3ms/step - loss: 0.5144 - accuracy: 0.8704 - val_loss: 0.3967 - val_accuracy: 0.9020\n",
      "Epoch 125/150\n",
      "4246/4246 [==============================] - 12s 3ms/step - loss: 0.5158 - accuracy: 0.8703 - val_loss: 0.3972 - val_accuracy: 0.9002\n",
      "Epoch 126/150\n",
      "4246/4246 [==============================] - 12s 3ms/step - loss: 0.5111 - accuracy: 0.8703 - val_loss: 0.3912 - val_accuracy: 0.9014\n",
      "Epoch 127/150\n",
      "4246/4246 [==============================] - 12s 3ms/step - loss: 0.5147 - accuracy: 0.8696 - val_loss: 0.4025 - val_accuracy: 0.9010\n",
      "Epoch 128/150\n",
      "4246/4246 [==============================] - 12s 3ms/step - loss: 0.5019 - accuracy: 0.8723 - val_loss: 0.4021 - val_accuracy: 0.9019\n",
      "Epoch 129/150\n",
      "4246/4246 [==============================] - 12s 3ms/step - loss: 0.5057 - accuracy: 0.8723 - val_loss: 0.3933 - val_accuracy: 0.9028\n",
      "Epoch 130/150\n",
      "4246/4246 [==============================] - 12s 3ms/step - loss: 0.5132 - accuracy: 0.8719 - val_loss: 0.3919 - val_accuracy: 0.8996\n",
      "Epoch 131/150\n",
      "4246/4246 [==============================] - 12s 3ms/step - loss: 0.5221 - accuracy: 0.8712 - val_loss: 0.3925 - val_accuracy: 0.9028\n",
      "Epoch 132/150\n",
      "4246/4246 [==============================] - 12s 3ms/step - loss: 0.4964 - accuracy: 0.8726 - val_loss: 0.3978 - val_accuracy: 0.9010\n",
      "Epoch 133/150\n",
      "4246/4246 [==============================] - 12s 3ms/step - loss: 0.5103 - accuracy: 0.8709 - val_loss: 0.4029 - val_accuracy: 0.9016\n",
      "Epoch 134/150\n",
      "4246/4246 [==============================] - 12s 3ms/step - loss: 0.5121 - accuracy: 0.8720 - val_loss: 0.4094 - val_accuracy: 0.8987\n",
      "Epoch 135/150\n",
      "4246/4246 [==============================] - 12s 3ms/step - loss: 0.4978 - accuracy: 0.8724 - val_loss: 0.4008 - val_accuracy: 0.9046\n",
      "Epoch 136/150\n",
      "4246/4246 [==============================] - 12s 3ms/step - loss: 0.5074 - accuracy: 0.8749 - val_loss: 0.4093 - val_accuracy: 0.8987\n",
      "Epoch 137/150\n",
      "4246/4246 [==============================] - 12s 3ms/step - loss: 0.5033 - accuracy: 0.8710 - val_loss: 0.3977 - val_accuracy: 0.9006\n",
      "Epoch 138/150\n",
      "4246/4246 [==============================] - 12s 3ms/step - loss: 0.5157 - accuracy: 0.8712 - val_loss: 0.3964 - val_accuracy: 0.9018\n",
      "Epoch 139/150\n",
      "4246/4246 [==============================] - 12s 3ms/step - loss: 0.5172 - accuracy: 0.8726 - val_loss: 0.3913 - val_accuracy: 0.9023\n",
      "Epoch 140/150\n",
      "4246/4246 [==============================] - 12s 3ms/step - loss: 0.5176 - accuracy: 0.8747 - val_loss: 0.4017 - val_accuracy: 0.9026\n",
      "Epoch 141/150\n",
      "4246/4246 [==============================] - 12s 3ms/step - loss: 0.5075 - accuracy: 0.8740 - val_loss: 0.3918 - val_accuracy: 0.9013\n",
      "Epoch 142/150\n",
      "4246/4246 [==============================] - 12s 3ms/step - loss: 0.4931 - accuracy: 0.8732 - val_loss: 0.4001 - val_accuracy: 0.9047\n",
      "Epoch 143/150\n",
      "4246/4246 [==============================] - 11s 3ms/step - loss: 0.4998 - accuracy: 0.8738 - val_loss: 0.3965 - val_accuracy: 0.9025\n",
      "Epoch 144/150\n",
      "4246/4246 [==============================] - 12s 3ms/step - loss: 0.5019 - accuracy: 0.8732 - val_loss: 0.3932 - val_accuracy: 0.9035\n",
      "Epoch 145/150\n",
      "4246/4246 [==============================] - 12s 3ms/step - loss: 0.5034 - accuracy: 0.8747 - val_loss: 0.3968 - val_accuracy: 0.9025\n",
      "Epoch 146/150\n",
      "4246/4246 [==============================] - 12s 3ms/step - loss: 0.5125 - accuracy: 0.8726 - val_loss: 0.4080 - val_accuracy: 0.9018\n",
      "Epoch 147/150\n",
      "4246/4246 [==============================] - 11s 3ms/step - loss: 0.5060 - accuracy: 0.8752 - val_loss: 0.4026 - val_accuracy: 0.9028\n",
      "Epoch 148/150\n",
      "4246/4246 [==============================] - 12s 3ms/step - loss: 0.5267 - accuracy: 0.8745 - val_loss: 0.4067 - val_accuracy: 0.9036\n",
      "Epoch 149/150\n",
      "4246/4246 [==============================] - 12s 3ms/step - loss: 0.5052 - accuracy: 0.8748 - val_loss: 0.3929 - val_accuracy: 0.9032\n",
      "Epoch 150/150\n",
      "4246/4246 [==============================] - 12s 3ms/step - loss: 0.4986 - accuracy: 0.8751 - val_loss: 0.3926 - val_accuracy: 0.9050\n"
     ]
    }
   ],
   "source": [
    "history = classifier_model_v2.fit(X_train, Y_train, epochs = 150,\n",
    "                                  validation_data = (X_val, Y_val))"
   ]
  },
  {
   "cell_type": "code",
   "execution_count": 18,
   "metadata": {},
   "outputs": [
    {
     "data": {
      "image/png": "[encoded data removed]",
      "text/plain": [
       "<Figure size 432x288 with 1 Axes>"
      ]
     },
     "metadata": {
      "needs_background": "light"
     },
     "output_type": "display_data"
    }
   ],
   "source": [
    "epochs = np.array([i for i in range(150)])\n",
    "plt.plot(epochs + 1/2, history.history['loss'], label = 'loss', color = 'b')\n",
    "plt.plot(epochs, history.history['val_loss'], label = 'val_loss', color = 'g')\n",
    "plt.legend(loc = 'best')\n",
    "plt.show()"
   ]
  },
  {
   "cell_type": "code",
   "execution_count": 19,
   "metadata": {},
   "outputs": [],
   "source": [
    "classifier_model_v2.save('512_0.4_256_0.3_256_25_relu_softmax_cross_entropy_adam_model.h5')"
   ]
  },
  {
   "cell_type": "code",
   "execution_count": null,
   "metadata": {},
   "outputs": [],
   "source": []
  }
 ],
 "metadata": {
  "kernelspec": {
   "display_name": "Python 3",
   "language": "python",
   "name": "python3"
  },
  "language_info": {
   "codemirror_mode": {
    "name": "ipython",
    "version": 3
   },
   "file_extension": ".py",
   "mimetype": "text/x-python",
   "name": "python",
   "nbconvert_exporter": "python",
   "pygments_lexer": "ipython3",
   "version": "3.8.10"
  }
 },
 "nbformat": 4,
 "nbformat_minor": 4
}
